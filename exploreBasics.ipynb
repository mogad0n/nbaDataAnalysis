{
 "cells": [
  {
   "cell_type": "markdown",
   "id": "ff17f42c",
   "metadata": {},
   "source": [
    "# Fundamentals\n",
    "\n",
    "## Input prefetch\n",
    "\n",
    "* Use the `nba_api.stats.static` dataset to import `teams` `players` \n",
    "* This can be used to humanize input args for other endpoints."
   ]
  },
  {
   "cell_type": "code",
   "execution_count": 10,
   "metadata": {},
   "outputs": [
    {
     "name": "stdout",
     "output_type": "stream",
     "text": [
      "Number of teams fetched: 30\n"
     ]
    },
    {
     "data": {
      "text/plain": [
       "[{'id': 1610612737,\n",
       "  'full_name': 'Atlanta Hawks',\n",
       "  'abbreviation': 'ATL',\n",
       "  'nickname': 'Hawks',\n",
       "  'city': 'Atlanta',\n",
       "  'state': 'Atlanta',\n",
       "  'year_founded': 1949},\n",
       " {'id': 1610612738,\n",
       "  'full_name': 'Boston Celtics',\n",
       "  'abbreviation': 'BOS',\n",
       "  'nickname': 'Celtics',\n",
       "  'city': 'Boston',\n",
       "  'state': 'Massachusetts',\n",
       "  'year_founded': 1946}]"
      ]
     },
     "execution_count": 10,
     "metadata": {},
     "output_type": "execute_result"
    }
   ],
   "source": [
    "from nba_api.stats.static import teams\n",
    "nba_teams = teams.get_teams()\n",
    "print('Number of teams fetched: {}'.format(len(nba_teams)))\n",
    "# sample:\n",
    "nba_teams[:2]"
   ]
  },
  {
   "cell_type": "code",
   "execution_count": 11,
   "metadata": {},
   "outputs": [],
   "source": [
    "# try to find team object using abbr\n",
    "# Also,\n",
    "# teams.find_teams_by_nickname\n",
    "# teams.find_teams_by_city\n",
    "# teams.find_teams_by_state\n",
    "# teams.find_teams_by_full_name\n",
    "\n",
    "# This returns None if not found\n",
    "team = teams.find_team_by_abbreviation('GSW')"
   ]
  },
  {
   "cell_type": "code",
   "execution_count": 14,
   "metadata": {},
   "outputs": [
    {
     "name": "stdout",
     "output_type": "stream",
     "text": [
      "Full name: Golden State Warriors\n"
     ]
    }
   ],
   "source": [
    "print(f\"Full name: {team.get('full_name', 'N/A')}\")"
   ]
  },
  {
   "cell_type": "code",
   "execution_count": 16,
   "metadata": {},
   "outputs": [
    {
     "name": "stdout",
     "output_type": "stream",
     "text": [
      "Number of players fetched: 4723\n"
     ]
    },
    {
     "data": {
      "text/plain": [
       "[{'id': 76001,\n",
       "  'full_name': 'Alaa Abdelnaby',\n",
       "  'first_name': 'Alaa',\n",
       "  'last_name': 'Abdelnaby',\n",
       "  'is_active': False},\n",
       " {'id': 76002,\n",
       "  'full_name': 'Zaid Abdul-Aziz',\n",
       "  'first_name': 'Zaid',\n",
       "  'last_name': 'Abdul-Aziz',\n",
       "  'is_active': False},\n",
       " {'id': 76003,\n",
       "  'full_name': 'Kareem Abdul-Jabbar',\n",
       "  'first_name': 'Kareem',\n",
       "  'last_name': 'Abdul-Jabbar',\n",
       "  'is_active': False},\n",
       " {'id': 51,\n",
       "  'full_name': 'Mahmoud Abdul-Rauf',\n",
       "  'first_name': 'Mahmoud',\n",
       "  'last_name': 'Abdul-Rauf',\n",
       "  'is_active': False},\n",
       " {'id': 1505,\n",
       "  'full_name': 'Tariq Abdul-Wahad',\n",
       "  'first_name': 'Tariq',\n",
       "  'last_name': 'Abdul-Wahad',\n",
       "  'is_active': False}]"
      ]
     },
     "execution_count": 16,
     "metadata": {},
     "output_type": "execute_result"
    }
   ],
   "source": [
    "from nba_api.stats.static import players\n",
    "# Also, get_active_players() and otherwise\n",
    "nba_players = players.get_players()\n",
    "print('Number of players fetched: {}'.format(len(nba_players)))\n",
    "nba_players[:5]"
   ]
  },
  {
   "cell_type": "code",
   "execution_count": 17,
   "metadata": {},
   "outputs": [
    {
     "data": {
      "text/plain": [
       "[{'id': 1629731,\n",
       "  'full_name': 'Dean Wade',\n",
       "  'first_name': 'Dean',\n",
       "  'last_name': 'Wade',\n",
       "  'is_active': True},\n",
       " {'id': 2548,\n",
       "  'full_name': 'Dwyane Wade',\n",
       "  'first_name': 'Dwyane',\n",
       "  'last_name': 'Wade',\n",
       "  'is_active': False},\n",
       " {'id': 78426,\n",
       "  'full_name': 'Mark Wade',\n",
       "  'first_name': 'Mark',\n",
       "  'last_name': 'Wade',\n",
       "  'is_active': False}]"
      ]
     },
     "execution_count": 17,
     "metadata": {},
     "output_type": "execute_result"
    }
   ],
   "source": [
    "# finding a player looks hard if input is bad\n",
    "# input regex\n",
    "# Also,\n",
    "# find_players_by_first_name\n",
    "# find_players_by_full_name\n",
    "playerList = players.find_players_by_last_name(\"Wade\")\n",
    "playerList"
   ]
  }
 ],
 "metadata": {
  "language_info": {
   "name": "python"
  },
  "orig_nbformat": 4
 },
 "nbformat": 4,
 "nbformat_minor": 2
}
