{
 "cells": [
  {
   "cell_type": "markdown",
   "id": "57278adf",
   "metadata": {},
   "source": [
    "# Live Data Endpoint\n",
    "\n",
    "## Scoreboard"
   ]
  },
  {
   "cell_type": "code",
   "execution_count": 1,
   "id": "2436639f-240d-4e99-9db9-a52718e3aa07",
   "metadata": {},
   "outputs": [],
   "source": [
    "# Query nba.live.endpoints.scoreboard and  list games in localTimeZone\n",
    "from datetime import datetime, timezone\n",
    "from dateutil import parser\n",
    "from nba_api.live.nba.endpoints import scoreboard\n"
   ]
  },
  {
   "cell_type": "code",
   "execution_count": 2,
   "id": "d6d9e627",
   "metadata": {},
   "outputs": [],
   "source": [
    "# Introduce Templating\n",
    "# Use getTemplate()\n",
    "f = \"{gameId}: {awayTeam} vs. {homeTeam} @ {gameTimeLTZ}\" "
   ]
  },
  {
   "cell_type": "code",
   "execution_count": 3,
   "id": "1dc57a7a",
   "metadata": {},
   "outputs": [
    {
     "name": "stdout",
     "output_type": "stream",
     "text": [
      "ScoreBoardDate: 2022-05-02\n",
      "0042100201: 76ers vs. Heat @ 2022-05-03 05:00:00+05:30\n",
      "0042100221: Mavericks vs. Suns @ 2022-05-03 07:30:00+05:30\n"
     ]
    }
   ],
   "source": [
    "board = scoreboard.ScoreBoard()\n",
    "print(\"ScoreBoardDate: \" + board.score_board_date)\n",
    "games = board.games.get_dict()\n",
    "for game in games:\n",
    "    gameTimeLTZ = parser.parse(game[\"gameTimeUTC\"]).replace(tzinfo=timezone.utc).astimezone(tz=None)\n",
    "    print(f.format(gameId=game['gameId'], awayTeam=game['awayTeam']['teamName'], homeTeam=game['homeTeam']['teamName'], gameTimeLTZ=gameTimeLTZ))\n"
   ]
  },
  {
   "cell_type": "markdown",
   "id": "bdb8f020",
   "metadata": {},
   "source": [
    "## Boxscore"
   ]
  },
  {
   "cell_type": "code",
   "execution_count": 4,
   "id": "732fff10",
   "metadata": {},
   "outputs": [],
   "source": [
    "from nba_api.live.nba.endpoints import boxscore\n",
    "box = boxscore.BoxScore(\"0042100201\")"
   ]
  },
  {
   "cell_type": "code",
   "execution_count": 6,
   "id": "b279ffc7",
   "metadata": {},
   "outputs": [
    {
     "data": {
      "text/plain": [
       "{'gameId': '0042100201',\n",
       " 'gameTimeLocal': '2022-05-02T19:30:00-04:00',\n",
       " 'gameTimeUTC': '2022-05-02T23:30:00Z',\n",
       " 'gameTimeHome': '2022-05-02T19:30:00-04:00',\n",
       " 'gameTimeAway': '2022-05-02T19:30:00-04:00',\n",
       " 'gameEt': '2022-05-02T19:30:00-04:00',\n",
       " 'duration': 138,\n",
       " 'gameCode': '20220502/PHIMIA',\n",
       " 'gameStatusText': 'Final',\n",
       " 'gameStatus': 3,\n",
       " 'regulationPeriods': 4,\n",
       " 'period': 4,\n",
       " 'gameClock': 'PT00M00.00S',\n",
       " 'attendance': 19620,\n",
       " 'sellout': '1'}"
      ]
     },
     "execution_count": 6,
     "metadata": {},
     "output_type": "execute_result"
    }
   ],
   "source": [
    "box.game_details.get_dict()"
   ]
  }
 ],
 "metadata": {
  "kernelspec": {
   "display_name": "Python 3 (ipykernel)",
   "language": "python",
   "name": "python3"
  },
  "language_info": {
   "codemirror_mode": {
    "name": "ipython",
    "version": 3
   },
   "file_extension": ".py",
   "mimetype": "text/x-python",
   "name": "python",
   "nbconvert_exporter": "python",
   "pygments_lexer": "ipython3",
   "version": "3.10.4"
  }
 },
 "nbformat": 4,
 "nbformat_minor": 5
}
